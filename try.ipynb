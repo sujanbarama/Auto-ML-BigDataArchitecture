{
 "cells": [
  {
   "cell_type": "code",
   "execution_count": 1,
   "metadata": {},
   "outputs": [],
   "source": [
    "import warnings\n",
    "warnings.filterwarnings(\"ignore\")"
   ]
  },
  {
   "cell_type": "code",
   "execution_count": 2,
   "metadata": {},
   "outputs": [],
   "source": [
    "import pandas as pd\n",
    "# import cleaning"
   ]
  },
  {
   "cell_type": "code",
   "execution_count": 3,
   "metadata": {},
   "outputs": [],
   "source": [
    "df=pd.read_csv(r'C:\\Users\\arman\\Downloads\\train_reg.csv')"
   ]
  },
  {
   "cell_type": "code",
   "execution_count": 4,
   "metadata": {},
   "outputs": [
    {
     "name": "stdout",
     "output_type": "stream",
     "text": [
      "<class 'pandas.core.frame.DataFrame'>\n",
      "RangeIndex: 10948 entries, 0 to 10947\n",
      "Data columns (total 10 columns):\n",
      " #   Column      Non-Null Count  Dtype  \n",
      "---  ------      --------------  -----  \n",
      " 0   Unnamed: 0  10948 non-null  int64  \n",
      " 1   dteday      10948 non-null  object \n",
      " 2   hr          10948 non-null  int64  \n",
      " 3   weathersit  10948 non-null  int64  \n",
      " 4   temp        10948 non-null  float64\n",
      " 5   atemp       10948 non-null  float64\n",
      " 6   hum         10948 non-null  float64\n",
      " 7   windspeed   10948 non-null  float64\n",
      " 8   casual      10948 non-null  int64  \n",
      " 9   Target      10948 non-null  int64  \n",
      "dtypes: float64(4), int64(5), object(1)\n",
      "memory usage: 855.4+ KB\n"
     ]
    }
   ],
   "source": [
    "df.info()"
   ]
  },
  {
   "cell_type": "code",
   "execution_count": 7,
   "metadata": {},
   "outputs": [
    {
     "ename": "ValueError",
     "evalue": "No objects to concatenate",
     "output_type": "error",
     "traceback": [
      "\u001b[1;31m---------------------------------------------------------------------------\u001b[0m",
      "\u001b[1;31mValueError\u001b[0m                                Traceback (most recent call last)",
      "\u001b[1;32mc:\\Users\\arman\\Documents\\GitHub\\Auto-ML-BigDataArchitecture\\Backend\\try.ipynb Cell 5\u001b[0m in \u001b[0;36m<cell line: 6>\u001b[1;34m()\u001b[0m\n\u001b[0;32m      <a href='vscode-notebook-cell:/c%3A/Users/arman/Documents/GitHub/Auto-ML-BigDataArchitecture/Backend/try.ipynb#W3sZmlsZQ%3D%3D?line=3'>4</a>\u001b[0m cleaner \u001b[39m=\u001b[39mCleaning()\n\u001b[0;32m      <a href='vscode-notebook-cell:/c%3A/Users/arman/Documents/GitHub/Auto-ML-BigDataArchitecture/Backend/try.ipynb#W3sZmlsZQ%3D%3D?line=4'>5</a>\u001b[0m imputed_data\u001b[39m=\u001b[39mcleaner\u001b[39m.\u001b[39mimpute(df)\n\u001b[1;32m----> <a href='vscode-notebook-cell:/c%3A/Users/arman/Documents/GitHub/Auto-ML-BigDataArchitecture/Backend/try.ipynb#W3sZmlsZQ%3D%3D?line=5'>6</a>\u001b[0m imputed_data\u001b[39m=\u001b[39mcleaner\u001b[39m.\u001b[39;49mnormalize_and_encode(imputed_data)\n",
      "File \u001b[1;32mc:\\Users\\arman\\Documents\\GitHub\\Auto-ML-BigDataArchitecture\\Backend\\cleaning.py:64\u001b[0m, in \u001b[0;36mCleaning.normalize_and_encode\u001b[1;34m(self, imputed_data)\u001b[0m\n\u001b[0;32m     61\u001b[0m data_for_enc\u001b[39m.\u001b[39mdrop(cat_cols_to_drop, axis\u001b[39m=\u001b[39m\u001b[39m1\u001b[39m, inplace\u001b[39m=\u001b[39m\u001b[39mTrue\u001b[39;00m)\n\u001b[0;32m     63\u001b[0m \u001b[39m# encoding categorical variables\u001b[39;00m\n\u001b[1;32m---> 64\u001b[0m enc_data\u001b[39m=\u001b[39m pd\u001b[39m.\u001b[39;49mget_dummies(data_for_enc, columns\u001b[39m=\u001b[39;49mdata_for_enc\u001b[39m.\u001b[39;49mcolumns)\n\u001b[0;32m     65\u001b[0m \u001b[39mprint\u001b[39m(scaled\u001b[39m.\u001b[39mcolumns,\u001b[39m1\u001b[39m)\n\u001b[0;32m     66\u001b[0m \u001b[39mprint\u001b[39m(enc_data\u001b[39m.\u001b[39mcolumns,\u001b[39m2\u001b[39m)\n",
      "File \u001b[1;32mc:\\Users\\arman\\anaconda3\\lib\\site-packages\\pandas\\core\\reshape\\reshape.py:987\u001b[0m, in \u001b[0;36mget_dummies\u001b[1;34m(data, prefix, prefix_sep, dummy_na, columns, sparse, drop_first, dtype)\u001b[0m\n\u001b[0;32m    977\u001b[0m         dummy \u001b[39m=\u001b[39m _get_dummies_1d(\n\u001b[0;32m    978\u001b[0m             col[\u001b[39m1\u001b[39m],\n\u001b[0;32m    979\u001b[0m             prefix\u001b[39m=\u001b[39mpre,\n\u001b[1;32m   (...)\u001b[0m\n\u001b[0;32m    984\u001b[0m             dtype\u001b[39m=\u001b[39mdtype,\n\u001b[0;32m    985\u001b[0m         )\n\u001b[0;32m    986\u001b[0m         with_dummies\u001b[39m.\u001b[39mappend(dummy)\n\u001b[1;32m--> 987\u001b[0m     result \u001b[39m=\u001b[39m concat(with_dummies, axis\u001b[39m=\u001b[39;49m\u001b[39m1\u001b[39;49m)\n\u001b[0;32m    988\u001b[0m \u001b[39melse\u001b[39;00m:\n\u001b[0;32m    989\u001b[0m     result \u001b[39m=\u001b[39m _get_dummies_1d(\n\u001b[0;32m    990\u001b[0m         data,\n\u001b[0;32m    991\u001b[0m         prefix,\n\u001b[1;32m   (...)\u001b[0m\n\u001b[0;32m    996\u001b[0m         dtype\u001b[39m=\u001b[39mdtype,\n\u001b[0;32m    997\u001b[0m     )\n",
      "File \u001b[1;32mc:\\Users\\arman\\anaconda3\\lib\\site-packages\\pandas\\util\\_decorators.py:311\u001b[0m, in \u001b[0;36mdeprecate_nonkeyword_arguments.<locals>.decorate.<locals>.wrapper\u001b[1;34m(*args, **kwargs)\u001b[0m\n\u001b[0;32m    305\u001b[0m \u001b[39mif\u001b[39;00m \u001b[39mlen\u001b[39m(args) \u001b[39m>\u001b[39m num_allow_args:\n\u001b[0;32m    306\u001b[0m     warnings\u001b[39m.\u001b[39mwarn(\n\u001b[0;32m    307\u001b[0m         msg\u001b[39m.\u001b[39mformat(arguments\u001b[39m=\u001b[39marguments),\n\u001b[0;32m    308\u001b[0m         \u001b[39mFutureWarning\u001b[39;00m,\n\u001b[0;32m    309\u001b[0m         stacklevel\u001b[39m=\u001b[39mstacklevel,\n\u001b[0;32m    310\u001b[0m     )\n\u001b[1;32m--> 311\u001b[0m \u001b[39mreturn\u001b[39;00m func(\u001b[39m*\u001b[39margs, \u001b[39m*\u001b[39m\u001b[39m*\u001b[39mkwargs)\n",
      "File \u001b[1;32mc:\\Users\\arman\\anaconda3\\lib\\site-packages\\pandas\\core\\reshape\\concat.py:347\u001b[0m, in \u001b[0;36mconcat\u001b[1;34m(objs, axis, join, ignore_index, keys, levels, names, verify_integrity, sort, copy)\u001b[0m\n\u001b[0;32m    143\u001b[0m \u001b[39m@deprecate_nonkeyword_arguments\u001b[39m(version\u001b[39m=\u001b[39m\u001b[39mNone\u001b[39;00m, allowed_args\u001b[39m=\u001b[39m[\u001b[39m\"\u001b[39m\u001b[39mobjs\u001b[39m\u001b[39m\"\u001b[39m])\n\u001b[0;32m    144\u001b[0m \u001b[39mdef\u001b[39;00m \u001b[39mconcat\u001b[39m(\n\u001b[0;32m    145\u001b[0m     objs: Iterable[NDFrame] \u001b[39m|\u001b[39m Mapping[Hashable, NDFrame],\n\u001b[1;32m   (...)\u001b[0m\n\u001b[0;32m    154\u001b[0m     copy: \u001b[39mbool\u001b[39m \u001b[39m=\u001b[39m \u001b[39mTrue\u001b[39;00m,\n\u001b[0;32m    155\u001b[0m ) \u001b[39m-\u001b[39m\u001b[39m>\u001b[39m DataFrame \u001b[39m|\u001b[39m Series:\n\u001b[0;32m    156\u001b[0m     \u001b[39m\"\"\"\u001b[39;00m\n\u001b[0;32m    157\u001b[0m \u001b[39m    Concatenate pandas objects along a particular axis with optional set logic\u001b[39;00m\n\u001b[0;32m    158\u001b[0m \u001b[39m    along the other axes.\u001b[39;00m\n\u001b[1;32m   (...)\u001b[0m\n\u001b[0;32m    345\u001b[0m \u001b[39m    ValueError: Indexes have overlapping values: ['a']\u001b[39;00m\n\u001b[0;32m    346\u001b[0m \u001b[39m    \"\"\"\u001b[39;00m\n\u001b[1;32m--> 347\u001b[0m     op \u001b[39m=\u001b[39m _Concatenator(\n\u001b[0;32m    348\u001b[0m         objs,\n\u001b[0;32m    349\u001b[0m         axis\u001b[39m=\u001b[39;49maxis,\n\u001b[0;32m    350\u001b[0m         ignore_index\u001b[39m=\u001b[39;49mignore_index,\n\u001b[0;32m    351\u001b[0m         join\u001b[39m=\u001b[39;49mjoin,\n\u001b[0;32m    352\u001b[0m         keys\u001b[39m=\u001b[39;49mkeys,\n\u001b[0;32m    353\u001b[0m         levels\u001b[39m=\u001b[39;49mlevels,\n\u001b[0;32m    354\u001b[0m         names\u001b[39m=\u001b[39;49mnames,\n\u001b[0;32m    355\u001b[0m         verify_integrity\u001b[39m=\u001b[39;49mverify_integrity,\n\u001b[0;32m    356\u001b[0m         copy\u001b[39m=\u001b[39;49mcopy,\n\u001b[0;32m    357\u001b[0m         sort\u001b[39m=\u001b[39;49msort,\n\u001b[0;32m    358\u001b[0m     )\n\u001b[0;32m    360\u001b[0m     \u001b[39mreturn\u001b[39;00m op\u001b[39m.\u001b[39mget_result()\n",
      "File \u001b[1;32mc:\\Users\\arman\\anaconda3\\lib\\site-packages\\pandas\\core\\reshape\\concat.py:404\u001b[0m, in \u001b[0;36m_Concatenator.__init__\u001b[1;34m(self, objs, axis, join, keys, levels, names, ignore_index, verify_integrity, copy, sort)\u001b[0m\n\u001b[0;32m    401\u001b[0m     objs \u001b[39m=\u001b[39m \u001b[39mlist\u001b[39m(objs)\n\u001b[0;32m    403\u001b[0m \u001b[39mif\u001b[39;00m \u001b[39mlen\u001b[39m(objs) \u001b[39m==\u001b[39m \u001b[39m0\u001b[39m:\n\u001b[1;32m--> 404\u001b[0m     \u001b[39mraise\u001b[39;00m \u001b[39mValueError\u001b[39;00m(\u001b[39m\"\u001b[39m\u001b[39mNo objects to concatenate\u001b[39m\u001b[39m\"\u001b[39m)\n\u001b[0;32m    406\u001b[0m \u001b[39mif\u001b[39;00m keys \u001b[39mis\u001b[39;00m \u001b[39mNone\u001b[39;00m:\n\u001b[0;32m    407\u001b[0m     objs \u001b[39m=\u001b[39m \u001b[39mlist\u001b[39m(com\u001b[39m.\u001b[39mnot_none(\u001b[39m*\u001b[39mobjs))\n",
      "\u001b[1;31mValueError\u001b[0m: No objects to concatenate"
     ]
    }
   ],
   "source": [
    "from cleaning import Cleaning\n",
    "\n",
    "\n",
    "cleaner =Cleaning()\n",
    "imputed_data=cleaner.impute(df)\n",
    "imputed_data=cleaner.normalize_and_encode(imputed_data)"
   ]
  },
  {
   "cell_type": "code",
   "execution_count": 5,
   "metadata": {},
   "outputs": [],
   "source": [
    "from modeling import Modeling"
   ]
  },
  {
   "cell_type": "code",
   "execution_count": 7,
   "metadata": {},
   "outputs": [
    {
     "name": "stdout",
     "output_type": "stream",
     "text": [
      "{'colsample_bytree': 0.7592687488204789, 'learning_rate': 0.2272625085059233, 'max_depth': 4, 'min_child_weight': 3, 'n_estimators': 65, 'subsample': 0.8220072889480914}\n",
      "XGBClassifier trained with an F1 of : 0.836 and an accuracy of: 0.823\n",
      "{'n_estimators': 100, 'criterion': 'entropy'}\n",
      "RandomForestClassifier trained with an F1 of : 0.836 and an accuracy of: 0.823\n",
      "{'loss': 'exponential', 'learning_rate': 0.1}\n",
      "GradientBoostingClassifier trained with an F1 of : 0.819 and an accuracy of: 0.807\n",
      "{'penalty': 'l2', 'fit_intercept': False, 'dual': False}\n",
      "LogisticRegression trained with an F1 of : 0.802 and an accuracy of: 0.791\n",
      "{'splitter': 'best', 'criterion': 'entropy'}\n",
      "DecisionTreeClassifier trained with an F1 of : 0.737 and an accuracy of: 0.729\n",
      "XGBClassifier {'cv': None, 'error_score': nan, 'estimator__objective': 'binary:logistic', 'estimator__use_label_encoder': None, 'estimator__base_score': None, 'estimator__booster': None, 'estimator__callbacks': None, 'estimator__colsample_bylevel': None, 'estimator__colsample_bynode': None, 'estimator__colsample_bytree': None, 'estimator__early_stopping_rounds': None, 'estimator__enable_categorical': False, 'estimator__eval_metric': None, 'estimator__feature_types': None, 'estimator__gamma': None, 'estimator__gpu_id': None, 'estimator__grow_policy': None, 'estimator__importance_type': None, 'estimator__interaction_constraints': None, 'estimator__learning_rate': None, 'estimator__max_bin': None, 'estimator__max_cat_threshold': None, 'estimator__max_cat_to_onehot': None, 'estimator__max_delta_step': None, 'estimator__max_depth': None, 'estimator__max_leaves': None, 'estimator__min_child_weight': None, 'estimator__missing': nan, 'estimator__monotone_constraints': None, 'estimator__n_estimators': 100, 'estimator__n_jobs': None, 'estimator__num_parallel_tree': None, 'estimator__predictor': None, 'estimator__random_state': None, 'estimator__reg_alpha': None, 'estimator__reg_lambda': None, 'estimator__sampling_method': None, 'estimator__scale_pos_weight': None, 'estimator__subsample': None, 'estimator__tree_method': None, 'estimator__validate_parameters': None, 'estimator__verbosity': None, 'estimator': XGBClassifier(base_score=None, booster=None, callbacks=None,\n",
      "              colsample_bylevel=None, colsample_bynode=None,\n",
      "              colsample_bytree=None, early_stopping_rounds=None,\n",
      "              enable_categorical=False, eval_metric=None, feature_types=None,\n",
      "              gamma=None, gpu_id=None, grow_policy=None, importance_type=None,\n",
      "              interaction_constraints=None, learning_rate=None, max_bin=None,\n",
      "              max_cat_threshold=None, max_cat_to_onehot=None,\n",
      "              max_delta_step=None, max_depth=None, max_leaves=None,\n",
      "              min_child_weight=None, missing=nan, monotone_constraints=None,\n",
      "              n_estimators=100, n_jobs=None, num_parallel_tree=None,\n",
      "              predictor=None, random_state=None, ...), 'n_iter': 10, 'n_jobs': None, 'param_distributions': {'n_estimators': <scipy.stats._distn_infrastructure.rv_frozen object at 0x0000028F6400DCD0>, 'learning_rate': <scipy.stats._distn_infrastructure.rv_frozen object at 0x0000028F640E1190>, 'subsample': <scipy.stats._distn_infrastructure.rv_frozen object at 0x0000028F64205850>, 'max_depth': [3, 4, 5], 'colsample_bytree': <scipy.stats._distn_infrastructure.rv_frozen object at 0x0000028F63F4C100>, 'min_child_weight': [1, 2, 3, 4]}, 'pre_dispatch': '2*n_jobs', 'random_state': 0, 'refit': True, 'return_train_score': False, 'scoring': None, 'verbose': 0}\n"
     ]
    }
   ],
   "source": [
    "trainer = Modeling()\n",
    "model= trainer.classification(imputed_data)"
   ]
  },
  {
   "cell_type": "code",
   "execution_count": 8,
   "metadata": {},
   "outputs": [
    {
     "data": {
      "text/plain": [
       "'XGBClassifier'"
      ]
     },
     "execution_count": 8,
     "metadata": {},
     "output_type": "execute_result"
    }
   ],
   "source": [
    "model"
   ]
  },
  {
   "cell_type": "code",
   "execution_count": 9,
   "metadata": {},
   "outputs": [
    {
     "name": "stdout",
     "output_type": "stream",
     "text": [
      "<class 'pandas.core.frame.DataFrame'>\n",
      "RangeIndex: 891 entries, 0 to 890\n",
      "Data columns (total 11 columns):\n",
      " #   Column       Non-Null Count  Dtype  \n",
      "---  ------       --------------  -----  \n",
      " 0   PassengerId  891 non-null    float64\n",
      " 1   Pclass       891 non-null    float64\n",
      " 2   Age          891 non-null    float64\n",
      " 3   SibSp        891 non-null    float64\n",
      " 4   Parch        891 non-null    float64\n",
      " 5   Fare         891 non-null    float64\n",
      " 6   Name         891 non-null    object \n",
      " 7   Sex          891 non-null    object \n",
      " 8   Ticket       891 non-null    object \n",
      " 9   Embarked     891 non-null    object \n",
      " 10  Target       891 non-null    int64  \n",
      "dtypes: float64(6), int64(1), object(4)\n",
      "memory usage: 76.7+ KB\n"
     ]
    }
   ],
   "source": [
    "imputed_date.info()"
   ]
  },
  {
   "cell_type": "code",
   "execution_count": null,
   "metadata": {},
   "outputs": [],
   "source": [
    "imputed_date=cleaner.normalize_and_encode(imputed_date)"
   ]
  },
  {
   "cell_type": "code",
   "execution_count": 10,
   "metadata": {},
   "outputs": [
    {
     "name": "stdout",
     "output_type": "stream",
     "text": [
      "<class 'pandas.core.frame.DataFrame'>\n",
      "RangeIndex: 891 entries, 0 to 890\n",
      "Data columns (total 11 columns):\n",
      " #   Column       Non-Null Count  Dtype  \n",
      "---  ------       --------------  -----  \n",
      " 0   PassengerId  891 non-null    float64\n",
      " 1   Pclass       891 non-null    float64\n",
      " 2   Age          891 non-null    float64\n",
      " 3   SibSp        891 non-null    float64\n",
      " 4   Parch        891 non-null    float64\n",
      " 5   Fare         891 non-null    float64\n",
      " 6   Name         891 non-null    object \n",
      " 7   Sex          891 non-null    object \n",
      " 8   Ticket       891 non-null    object \n",
      " 9   Embarked     891 non-null    object \n",
      " 10  Target       891 non-null    int64  \n",
      "dtypes: float64(6), int64(1), object(4)\n",
      "memory usage: 76.7+ KB\n"
     ]
    }
   ],
   "source": [
    "imputed_date.info()"
   ]
  },
  {
   "cell_type": "code",
   "execution_count": null,
   "metadata": {},
   "outputs": [],
   "source": []
  }
 ],
 "metadata": {
  "kernelspec": {
   "display_name": "base",
   "language": "python",
   "name": "python3"
  },
  "language_info": {
   "codemirror_mode": {
    "name": "ipython",
    "version": 3
   },
   "file_extension": ".py",
   "mimetype": "text/x-python",
   "name": "python",
   "nbconvert_exporter": "python",
   "pygments_lexer": "ipython3",
   "version": "3.9.12"
  },
  "orig_nbformat": 4
 },
 "nbformat": 4,
 "nbformat_minor": 2
}
